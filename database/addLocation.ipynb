{
 "cells": [
  {
   "cell_type": "code",
   "execution_count": 2,
   "metadata": {},
   "outputs": [],
   "source": [
    "import pandas as pd"
   ]
  },
  {
   "cell_type": "code",
   "execution_count": 7,
   "metadata": {},
   "outputs": [
    {
     "data": {
      "text/html": [
       "<div>\n",
       "<style scoped>\n",
       "    .dataframe tbody tr th:only-of-type {\n",
       "        vertical-align: middle;\n",
       "    }\n",
       "\n",
       "    .dataframe tbody tr th {\n",
       "        vertical-align: top;\n",
       "    }\n",
       "\n",
       "    .dataframe thead th {\n",
       "        text-align: right;\n",
       "    }\n",
       "</style>\n",
       "<table border=\"1\" class=\"dataframe\">\n",
       "  <thead>\n",
       "    <tr style=\"text-align: right;\">\n",
       "      <th></th>\n",
       "      <th>ID</th>\n",
       "      <th>Make</th>\n",
       "      <th>Model</th>\n",
       "      <th>Fuel</th>\n",
       "      <th>Transmission</th>\n",
       "    </tr>\n",
       "  </thead>\n",
       "  <tbody>\n",
       "    <tr>\n",
       "      <th>0</th>\n",
       "      <td>2009 Audi A3 3.2</td>\n",
       "      <td>Audi</td>\n",
       "      <td>2009 Audi A3</td>\n",
       "      <td>Gasoline</td>\n",
       "      <td>Automatic transmission</td>\n",
       "    </tr>\n",
       "    <tr>\n",
       "      <th>1</th>\n",
       "      <td>2009 Audi A3 2.0 T AT</td>\n",
       "      <td>Audi</td>\n",
       "      <td>2009 Audi A3</td>\n",
       "      <td>Gasoline</td>\n",
       "      <td>Automatic transmission</td>\n",
       "    </tr>\n",
       "    <tr>\n",
       "      <th>2</th>\n",
       "      <td>2009 Audi A3 2.0 T</td>\n",
       "      <td>Audi</td>\n",
       "      <td>2009 Audi A3</td>\n",
       "      <td>Gasoline</td>\n",
       "      <td>Manual transmission</td>\n",
       "    </tr>\n",
       "    <tr>\n",
       "      <th>3</th>\n",
       "      <td>2009 Audi A3 2.0 T Quattro</td>\n",
       "      <td>Audi</td>\n",
       "      <td>2009 Audi A3</td>\n",
       "      <td>Gasoline</td>\n",
       "      <td>Automatic transmission</td>\n",
       "    </tr>\n",
       "    <tr>\n",
       "      <th>4</th>\n",
       "      <td>2009 Audi A3 2.0 T Quattro</td>\n",
       "      <td>Audi</td>\n",
       "      <td>2009 Audi A3</td>\n",
       "      <td>Gasoline</td>\n",
       "      <td>Automatic transmission</td>\n",
       "    </tr>\n",
       "    <tr>\n",
       "      <th>...</th>\n",
       "      <td>...</td>\n",
       "      <td>...</td>\n",
       "      <td>...</td>\n",
       "      <td>...</td>\n",
       "      <td>...</td>\n",
       "    </tr>\n",
       "    <tr>\n",
       "      <th>994</th>\n",
       "      <td>2010 Volkswagen Routan SEL Premium</td>\n",
       "      <td>Volkswagen</td>\n",
       "      <td>2010  Volkswagen Routan</td>\n",
       "      <td>Gasoline</td>\n",
       "      <td>Automatic transmission</td>\n",
       "    </tr>\n",
       "    <tr>\n",
       "      <th>995</th>\n",
       "      <td>2009 Nissan Pathfinder LE</td>\n",
       "      <td>Nissan</td>\n",
       "      <td>2009 Nissan Pathfinder</td>\n",
       "      <td>Gasoline</td>\n",
       "      <td>Automatic transmission</td>\n",
       "    </tr>\n",
       "    <tr>\n",
       "      <th>996</th>\n",
       "      <td>2009 Nissan Pathfinder SE Off-Road</td>\n",
       "      <td>Nissan</td>\n",
       "      <td>2009 Nissan Pathfinder</td>\n",
       "      <td>Gasoline</td>\n",
       "      <td>Automatic transmission</td>\n",
       "    </tr>\n",
       "    <tr>\n",
       "      <th>997</th>\n",
       "      <td>2009 Nissan Pathfinder SE 4x4</td>\n",
       "      <td>Nissan</td>\n",
       "      <td>2009 Nissan Pathfinder</td>\n",
       "      <td>Gasoline</td>\n",
       "      <td>Automatic transmission</td>\n",
       "    </tr>\n",
       "    <tr>\n",
       "      <th>998</th>\n",
       "      <td>2009 Nissan Pathfinder LE 4x4 V8</td>\n",
       "      <td>Nissan</td>\n",
       "      <td>2009 Nissan Pathfinder</td>\n",
       "      <td>Gasoline</td>\n",
       "      <td>Automatic transmission</td>\n",
       "    </tr>\n",
       "  </tbody>\n",
       "</table>\n",
       "<p>999 rows × 5 columns</p>\n",
       "</div>"
      ],
      "text/plain": [
       "                                     ID        Make                    Model  \\\n",
       "0                      2009 Audi A3 3.2        Audi             2009 Audi A3   \n",
       "1                 2009 Audi A3 2.0 T AT        Audi             2009 Audi A3   \n",
       "2                    2009 Audi A3 2.0 T        Audi             2009 Audi A3   \n",
       "3            2009 Audi A3 2.0 T Quattro        Audi             2009 Audi A3   \n",
       "4            2009 Audi A3 2.0 T Quattro        Audi             2009 Audi A3   \n",
       "..                                  ...         ...                      ...   \n",
       "994  2010 Volkswagen Routan SEL Premium  Volkswagen  2010  Volkswagen Routan   \n",
       "995           2009 Nissan Pathfinder LE      Nissan   2009 Nissan Pathfinder   \n",
       "996  2009 Nissan Pathfinder SE Off-Road      Nissan   2009 Nissan Pathfinder   \n",
       "997       2009 Nissan Pathfinder SE 4x4      Nissan   2009 Nissan Pathfinder   \n",
       "998    2009 Nissan Pathfinder LE 4x4 V8      Nissan   2009 Nissan Pathfinder   \n",
       "\n",
       "         Fuel            Transmission  \n",
       "0    Gasoline  Automatic transmission  \n",
       "1    Gasoline  Automatic transmission  \n",
       "2    Gasoline     Manual transmission  \n",
       "3    Gasoline  Automatic transmission  \n",
       "4    Gasoline  Automatic transmission  \n",
       "..        ...                     ...  \n",
       "994  Gasoline  Automatic transmission  \n",
       "995  Gasoline  Automatic transmission  \n",
       "996  Gasoline  Automatic transmission  \n",
       "997  Gasoline  Automatic transmission  \n",
       "998  Gasoline  Automatic transmission  \n",
       "\n",
       "[999 rows x 5 columns]"
      ]
     },
     "execution_count": 7,
     "metadata": {},
     "output_type": "execute_result"
    }
   ],
   "source": [
    "cars = pd.read_json(\"cars_1000.json\")\n",
    "cars"
   ]
  },
  {
   "cell_type": "code",
   "execution_count": 9,
   "metadata": {},
   "outputs": [
    {
     "data": {
      "text/plain": [
       "0        University Square\n",
       "1    Baneasa Shopping City\n",
       "2             IKEA Pallady\n",
       "3            Afi Cotroceni\n",
       "dtype: object"
      ]
     },
     "execution_count": 9,
     "metadata": {},
     "output_type": "execute_result"
    }
   ],
   "source": [
    "location = pd.Series([\"University Square\", \"Baneasa Shopping City\", \"IKEA Pallady\", \"Afi Cotroceni\"])\n",
    "location"
   ]
  },
  {
   "cell_type": "code",
   "execution_count": null,
   "metadata": {},
   "outputs": [],
   "source": [
    "for i in range(250):\n",
    "    location = pd.concat([location, location], ignore_index=True)"
   ]
  },
  {
   "cell_type": "code",
   "execution_count": null,
   "metadata": {},
   "outputs": [],
   "source": []
  }
 ],
 "metadata": {
  "kernelspec": {
   "display_name": "Python 3",
   "language": "python",
   "name": "python3"
  },
  "language_info": {
   "codemirror_mode": {
    "name": "ipython",
    "version": 3
   },
   "file_extension": ".py",
   "mimetype": "text/x-python",
   "name": "python",
   "nbconvert_exporter": "python",
   "pygments_lexer": "ipython3",
   "version": "3.8.3"
  }
 },
 "nbformat": 4,
 "nbformat_minor": 4
}
